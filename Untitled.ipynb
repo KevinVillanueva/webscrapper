{
 "cells": [
  {
   "cell_type": "markdown",
   "metadata": {},
   "source": [
    "# Data Frames"
   ]
  },
  {
   "cell_type": "code",
   "execution_count": 8,
   "metadata": {},
   "outputs": [
    {
     "data": {
      "text/html": [
       "<div>\n",
       "<style scoped>\n",
       "    .dataframe tbody tr th:only-of-type {\n",
       "        vertical-align: middle;\n",
       "    }\n",
       "\n",
       "    .dataframe tbody tr th {\n",
       "        vertical-align: top;\n",
       "    }\n",
       "\n",
       "    .dataframe thead th {\n",
       "        text-align: right;\n",
       "    }\n",
       "</style>\n",
       "<table border=\"1\" class=\"dataframe\">\n",
       "  <thead>\n",
       "    <tr style=\"text-align: right;\">\n",
       "      <th></th>\n",
       "      <th>1999</th>\n",
       "      <th>2000</th>\n",
       "      <th>2001</th>\n",
       "    </tr>\n",
       "  </thead>\n",
       "  <tbody>\n",
       "    <tr>\n",
       "      <th>0</th>\n",
       "      <td>74</td>\n",
       "      <td>66</td>\n",
       "      <td>80</td>\n",
       "    </tr>\n",
       "    <tr>\n",
       "      <th>1</th>\n",
       "      <td>66</td>\n",
       "      <td>53</td>\n",
       "      <td>45</td>\n",
       "    </tr>\n",
       "    <tr>\n",
       "      <th>2</th>\n",
       "      <td>73</td>\n",
       "      <td>51</td>\n",
       "      <td>67</td>\n",
       "    </tr>\n",
       "  </tbody>\n",
       "</table>\n",
       "</div>"
      ],
      "text/plain": [
       "   1999  2000  2001\n",
       "0    74    66    80\n",
       "1    66    53    45\n",
       "2    73    51    67"
      ]
     },
     "execution_count": 8,
     "metadata": {},
     "output_type": "execute_result"
    }
   ],
   "source": [
    "import pandas as pd\n",
    "\n",
    "frame_test = pd.DataFrame({1999: [74, 66, 73],\n",
    "                           2000: [66, 53, 51],\n",
    "                           2001: [80, 45, 67]})\n",
    "\n",
    "frame_test"
   ]
  },
  {
   "cell_type": "code",
   "execution_count": 11,
   "metadata": {},
   "outputs": [
    {
     "data": {
      "text/html": [
       "<div>\n",
       "<style scoped>\n",
       "    .dataframe tbody tr th:only-of-type {\n",
       "        vertical-align: middle;\n",
       "    }\n",
       "\n",
       "    .dataframe tbody tr th {\n",
       "        vertical-align: top;\n",
       "    }\n",
       "\n",
       "    .dataframe thead th {\n",
       "        text-align: right;\n",
       "    }\n",
       "</style>\n",
       "<table border=\"1\" class=\"dataframe\">\n",
       "  <thead>\n",
       "    <tr style=\"text-align: right;\">\n",
       "      <th></th>\n",
       "      <th>1999</th>\n",
       "      <th>2000</th>\n",
       "      <th>2001</th>\n",
       "    </tr>\n",
       "  </thead>\n",
       "  <tbody>\n",
       "    <tr>\n",
       "      <th>0</th>\n",
       "      <td>74</td>\n",
       "      <td>66</td>\n",
       "      <td>73</td>\n",
       "    </tr>\n",
       "    <tr>\n",
       "      <th>1</th>\n",
       "      <td>66</td>\n",
       "      <td>53</td>\n",
       "      <td>51</td>\n",
       "    </tr>\n",
       "    <tr>\n",
       "      <th>2</th>\n",
       "      <td>80</td>\n",
       "      <td>45</td>\n",
       "      <td>67</td>\n",
       "    </tr>\n",
       "  </tbody>\n",
       "</table>\n",
       "</div>"
      ],
      "text/plain": [
       "   1999  2000  2001\n",
       "0    74    66    73\n",
       "1    66    53    51\n",
       "2    80    45    67"
      ]
     },
     "execution_count": 11,
     "metadata": {},
     "output_type": "execute_result"
    }
   ],
   "source": [
    "frame_test2 = pd.DataFrame([[74, 66, 73],\n",
    "                          [66, 53, 51],\n",
    "                          [80, 45, 67]], columns = [1999, 2000, 2001])\n",
    "\n",
    "frame_test2"
   ]
  },
  {
   "cell_type": "markdown",
   "metadata": {},
   "source": [
    "# Read Data"
   ]
  },
  {
   "cell_type": "code",
   "execution_count": 6,
   "metadata": {},
   "outputs": [
    {
     "data": {
      "text/html": [
       "<div>\n",
       "<style scoped>\n",
       "    .dataframe tbody tr th:only-of-type {\n",
       "        vertical-align: middle;\n",
       "    }\n",
       "\n",
       "    .dataframe tbody tr th {\n",
       "        vertical-align: top;\n",
       "    }\n",
       "\n",
       "    .dataframe thead th {\n",
       "        text-align: right;\n",
       "    }\n",
       "</style>\n",
       "<table border=\"1\" class=\"dataframe\">\n",
       "  <thead>\n",
       "    <tr style=\"text-align: right;\">\n",
       "      <th></th>\n",
       "      <th>body</th>\n",
       "      <th>title</th>\n",
       "    </tr>\n",
       "  </thead>\n",
       "  <tbody>\n",
       "    <tr>\n",
       "      <th>0</th>\n",
       "      <td>\\r\\nEl ideólogo de la contrarreforma en el sec...</td>\n",
       "      <td>Pupilo de Bartlett, el cerebro detrás de Rocío...</td>\n",
       "    </tr>\n",
       "    <tr>\n",
       "      <th>1</th>\n",
       "      <td>0 % PULSO SOCIAL0 Algunos millonarios prefier...</td>\n",
       "      <td>NaN</td>\n",
       "    </tr>\n",
       "    <tr>\n",
       "      <th>2</th>\n",
       "      <td>\\r\\nMontevideo.- En una región que escala haci...</td>\n",
       "      <td>Cuál es el secreto de Uruguay, que sin cuarent...</td>\n",
       "    </tr>\n",
       "    <tr>\n",
       "      <th>3</th>\n",
       "      <td>\\r\\nPese a que Enrique Alfaro, gobernador de J...</td>\n",
       "      <td>Educación en SLP mantiene el 1 de junio como f...</td>\n",
       "    </tr>\n",
       "    <tr>\n",
       "      <th>4</th>\n",
       "      <td>\\r\\nLos Centros para el Control y la Prevenció...</td>\n",
       "      <td>NaN</td>\n",
       "    </tr>\n",
       "    <tr>\n",
       "      <th>...</th>\n",
       "      <td>...</td>\n",
       "      <td>...</td>\n",
       "    </tr>\n",
       "    <tr>\n",
       "      <th>59</th>\n",
       "      <td>\\r\\nLa mejor amiga de Kylie Jenner, Anastasia ...</td>\n",
       "      <td>NaN</td>\n",
       "    </tr>\n",
       "    <tr>\n",
       "      <th>60</th>\n",
       "      <td>\\r\\n\\r\\n\\r\\n\\r\\n    googletag.cmd.push(functio...</td>\n",
       "      <td>Multa Hoy No Circula Edomex Fase 3: Cuál es el...</td>\n",
       "    </tr>\n",
       "    <tr>\n",
       "      <th>61</th>\n",
       "      <td>\\r\\nLa Comisión de Gobernación, Administración...</td>\n",
       "      <td>Aplazan periodo electoral; prevén inicie el 15...</td>\n",
       "    </tr>\n",
       "    <tr>\n",
       "      <th>62</th>\n",
       "      <td>\\r\\nEl gobierno municipal de Oaxaca de Juárez,...</td>\n",
       "      <td>Central de Abasto es zona de alto riesgo de co...</td>\n",
       "    </tr>\n",
       "    <tr>\n",
       "      <th>63</th>\n",
       "      <td>\\r\\n\\r\\nSan José.- El 22 de mayo de 2020 podrí...</td>\n",
       "      <td>Este fue el terremoto más fuerte de la histori...</td>\n",
       "    </tr>\n",
       "  </tbody>\n",
       "</table>\n",
       "<p>64 rows × 2 columns</p>\n",
       "</div>"
      ],
      "text/plain": [
       "                                                 body  \\\n",
       "0   \\r\\nEl ideólogo de la contrarreforma en el sec...   \n",
       "1    0 % PULSO SOCIAL0 Algunos millonarios prefier...   \n",
       "2   \\r\\nMontevideo.- En una región que escala haci...   \n",
       "3   \\r\\nPese a que Enrique Alfaro, gobernador de J...   \n",
       "4   \\r\\nLos Centros para el Control y la Prevenció...   \n",
       "..                                                ...   \n",
       "59  \\r\\nLa mejor amiga de Kylie Jenner, Anastasia ...   \n",
       "60  \\r\\n\\r\\n\\r\\n\\r\\n    googletag.cmd.push(functio...   \n",
       "61  \\r\\nLa Comisión de Gobernación, Administración...   \n",
       "62  \\r\\nEl gobierno municipal de Oaxaca de Juárez,...   \n",
       "63  \\r\\n\\r\\nSan José.- El 22 de mayo de 2020 podrí...   \n",
       "\n",
       "                                                title  \n",
       "0   Pupilo de Bartlett, el cerebro detrás de Rocío...  \n",
       "1                                                 NaN  \n",
       "2   Cuál es el secreto de Uruguay, que sin cuarent...  \n",
       "3   Educación en SLP mantiene el 1 de junio como f...  \n",
       "4                                                 NaN  \n",
       "..                                                ...  \n",
       "59                                                NaN  \n",
       "60  Multa Hoy No Circula Edomex Fase 3: Cuál es el...  \n",
       "61  Aplazan periodo electoral; prevén inicie el 15...  \n",
       "62  Central de Abasto es zona de alto riesgo de co...  \n",
       "63  Este fue el terremoto más fuerte de la histori...  \n",
       "\n",
       "[64 rows x 2 columns]"
      ]
     },
     "execution_count": 6,
     "metadata": {},
     "output_type": "execute_result"
    }
   ],
   "source": [
    "import pandas as pd\n",
    "\n",
    "el_universal = pd.read_csv('./eluniversal_2020_05_22_articles.csv', encoding = \"latin-1\")\n",
    "\n",
    "el_universal"
   ]
  },
  {
   "cell_type": "code",
   "execution_count": null,
   "metadata": {},
   "outputs": [],
   "source": []
  },
  {
   "cell_type": "code",
   "execution_count": null,
   "metadata": {},
   "outputs": [],
   "source": []
  }
 ],
 "metadata": {
  "kernelspec": {
   "display_name": "Python 3",
   "language": "python",
   "name": "python3"
  },
  "language_info": {
   "codemirror_mode": {
    "name": "ipython",
    "version": 3
   },
   "file_extension": ".py",
   "mimetype": "text/x-python",
   "name": "python",
   "nbconvert_exporter": "python",
   "pygments_lexer": "ipython3",
   "version": "3.7.6"
  }
 },
 "nbformat": 4,
 "nbformat_minor": 4
}
